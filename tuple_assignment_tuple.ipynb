{
 "cells": [
  {
   "cell_type": "markdown",
   "id": "6cade624",
   "metadata": {},
   "source": [
    "# Module 3: Data Structures Assignments\n",
    "## Lesson 3.2: Tuples\n",
    "### Assignment 1: Creating and Accessing Tuples\n",
    "\n",
    "Create a tuple with the first 10 positive integers. Print the tuple.\n",
    "\n",
    "### Assignment 2: Accessing Tuple Elements\n",
    "\n",
    "Print the first, middle, and last elements of the tuple created in Assignment 1.\n",
    "\n",
    "### Assignment 3: Tuple Slicing\n",
    "\n",
    "Print the first three elements, the last three elements, and the elements from index 2 to 5 of the tuple created in Assignment 1.\n",
    "\n",
    "### Assignment 4: Nested Tuples\n",
    "\n",
    "Create a nested tuple representing a 3x3 matrix and print the matrix. Access and print the element at the second row and third column.\n",
    "\n",
    "### Assignment 5: Tuple Concatenation\n",
    "\n",
    "Concatenate two tuples: (1, 2, 3) and (4, 5, 6). Print the resulting tuple.\n",
    "\n",
    "### Assignment 6: Tuple Methods\n",
    "\n",
    "Create a tuple with duplicate elements and count the occurrences of an element. Find the index of the first occurrence of an element in the tuple.\n",
    "\n",
    "### Assignment 7: Unpacking Tuples\n",
    "\n",
    "Create a tuple with 5 elements and unpack it into 5 variables. Print the variables.\n",
    "\n",
    "### Assignment 8: Tuple Conversion\n",
    "\n",
    "Convert a list of the first 5 positive integers to a tuple. Print the tuple.\n",
    "\n",
    "### Assignment 9: Tuple of Tuples\n",
    "\n",
    "Create a tuple containing 3 tuples, each with 3 elements. Print the tuple of tuples.\n",
    "\n",
    "### Assignment 10: Tuple and List\n",
    "\n",
    "Create a tuple with the first 5 positive integers. Convert it to a list, append the number 6, and convert it back to a tuple. Print the resulting tuple.\n",
    "\n",
    "### Assignment 11: Tuple and String\n",
    "\n",
    "Create a tuple with the characters of a string. Join the tuple elements into a single string. Print the string.\n",
    "\n",
    "### Assignment 12: Tuple and Dictionary\n",
    "\n",
    "Create a dictionary with tuple keys and integer values. Print the dictionary.\n",
    "\n",
    "### Assignment 13: Nested Tuple Iteration\n",
    "\n",
    "Create a nested tuple and iterate over the elements, printing each element.\n",
    "\n",
    "### Assignment 14: Tuple and Set\n",
    "\n",
    "Create a tuple with duplicate elements. Convert it to a set to remove duplicates and print the resulting set.\n",
    "\n",
    "### Assignment 15: Tuple Functions\n",
    "\n",
    "Write functions that take a tuple and return the minimum, maximum, and sum of the elements. Print the results for a sample tuple."
   ]
  },
  {
   "cell_type": "code",
   "execution_count": 1,
   "id": "2df9556e",
   "metadata": {},
   "outputs": [
    {
     "name": "stdout",
     "output_type": "stream",
     "text": [
      "(1, 2, 3, 4, 5, 6, 7, 8, 9, 10)\n"
     ]
    }
   ],
   "source": [
    "#Create a tuple with the first 10 positive integers. Print the tuple.\n",
    "\n",
    "tup_1 = (1, 2, 3, 4, 5, 6, 7, 8, 9, 10)\n",
    "print(tup_1)"
   ]
  },
  {
   "cell_type": "code",
   "execution_count": 2,
   "id": "d277b6c3",
   "metadata": {},
   "outputs": [
    {
     "name": "stdout",
     "output_type": "stream",
     "text": [
      "(1, 2, 3, 4, 5, 6, 7, 8, 9, 10)\n"
     ]
    }
   ],
   "source": [
    "tup_1 = tuple(range(1, 11))\n",
    "print(tup_1)"
   ]
  },
  {
   "cell_type": "code",
   "execution_count": 10,
   "id": "9d2c2552",
   "metadata": {},
   "outputs": [
    {
     "name": "stdout",
     "output_type": "stream",
     "text": [
      "6\n"
     ]
    }
   ],
   "source": [
    "#Print the first, middle, and last elements of the tuple created in Assignment 1.\n",
    "middle_element= tup_1[len(tup_1)//2]\n",
    "print(middle_element)"
   ]
  },
  {
   "cell_type": "code",
   "execution_count": 15,
   "id": "2839491e",
   "metadata": {},
   "outputs": [
    {
     "name": "stdout",
     "output_type": "stream",
     "text": [
      "(3, 4, 5, 6)\n"
     ]
    }
   ],
   "source": [
    "#Print the first three elements, the last three elements, and the elements from index 2 to 5 of the tuple created in Assignment 1.\n",
    "\n",
    "print(tup_1[2:6])"
   ]
  },
  {
   "cell_type": "code",
   "execution_count": 16,
   "id": "9a60c729",
   "metadata": {},
   "outputs": [
    {
     "name": "stdout",
     "output_type": "stream",
     "text": [
      "(1, 2, 3)\n",
      "(4, 5, 6)\n",
      "(7, 8, 9)\n"
     ]
    }
   ],
   "source": [
    "#Create a nested tuple representing a 3x3 matrix and print the matrix. Access and print the element at the second row and third column.\n",
    "\n",
    "matrix = ((1, 2, 3), (4, 5, 6), (7, 8, 9))\n",
    "for row in matrix:\n",
    "    print(row)"
   ]
  },
  {
   "cell_type": "code",
   "execution_count": 17,
   "id": "d38eb882",
   "metadata": {},
   "outputs": [
    {
     "name": "stdout",
     "output_type": "stream",
     "text": [
      "6\n"
     ]
    }
   ],
   "source": [
    "element = matrix[1][2]\n",
    "print(element)"
   ]
  },
  {
   "cell_type": "code",
   "execution_count": 19,
   "id": "be3017ef",
   "metadata": {},
   "outputs": [
    {
     "name": "stdout",
     "output_type": "stream",
     "text": [
      "(1, 2, 3, 4, 5, 6)\n"
     ]
    }
   ],
   "source": [
    "#Concatenate two tuples: (1, 2, 3) and (4, 5, 6). Print the resulting tuple.\n",
    "tup_1 = (1, 2, 3)\n",
    "tup_2 = (4, 5, 6)\n",
    "tup_3 = tup_1+ tup_2\n",
    "print(tup_3)"
   ]
  },
  {
   "cell_type": "code",
   "execution_count": 33,
   "id": "4abd58a8",
   "metadata": {},
   "outputs": [
    {
     "name": "stdout",
     "output_type": "stream",
     "text": [
      "Element2 appears 3 times.\n",
      "Element3 appears 2 times.\n"
     ]
    }
   ],
   "source": [
    "#Create a tuple with duplicate elements and count the occurrences of an element. Find the index of the first occurrence of an element in the tuple.\n",
    "from collections import Counter\n",
    "\n",
    "tup_2 = (2, 2, 2, 1, 3, 3, 5, 7, 8)\n",
    "\n",
    "count = Counter(tup_2)\n",
    "\n",
    "for element, occurrence in count.items():\n",
    "    if occurrence >1:\n",
    "        print(f\"Element{element} appears {occurrence} times.\")"
   ]
  },
  {
   "cell_type": "code",
   "execution_count": 34,
   "id": "11b0cad2",
   "metadata": {},
   "outputs": [
    {
     "name": "stdout",
     "output_type": "stream",
     "text": [
      "10\n",
      "20\n",
      "30\n",
      "40\n"
     ]
    }
   ],
   "source": [
    "#Create a tuple with 5 elements and unpack it into 5 variables. Print the variables.\n",
    "tup_a = (10, 20, 30, 40)\n",
    "\n",
    "a,b, c, d = tup_a\n",
    "\n",
    "print(a)\n",
    "print(b)\n",
    "print(c)\n",
    "print(d)"
   ]
  },
  {
   "cell_type": "code",
   "execution_count": 35,
   "id": "965ca0c8",
   "metadata": {},
   "outputs": [
    {
     "name": "stdout",
     "output_type": "stream",
     "text": [
      "(1, 2, 3, 4, 5)\n"
     ]
    }
   ],
   "source": [
    "#Convert a list of the first 5 positive integers to a tuple. Print the tuple.\n",
    "\n",
    "list_a = [1, 2, 3, 4, 5]\n",
    "tup_q = tuple(list_a)\n",
    "print(tup_q)"
   ]
  },
  {
   "cell_type": "code",
   "execution_count": 43,
   "id": "f8604a2e",
   "metadata": {},
   "outputs": [
    {
     "name": "stdout",
     "output_type": "stream",
     "text": [
      "((1, 2, 3), (6, 7, 8), (4, 5, 6))\n"
     ]
    }
   ],
   "source": [
    "#Create a tuple containing 3 tuples, each with 3 elements. Print the tuple of tuples.\n",
    "tupe_1a = ((1, 2, 3), (6, 7, 8), (4, 5, 6))\n",
    "tupe_2a = tuple(tupe_1a)\n",
    "print(tupe_2a)"
   ]
  },
  {
   "cell_type": "code",
   "execution_count": 48,
   "id": "216ffb36",
   "metadata": {},
   "outputs": [
    {
     "name": "stdout",
     "output_type": "stream",
     "text": [
      "[3, 4, 5, 6, 7, 6]\n",
      "(3, 4, 5, 6, 7, 6)\n"
     ]
    }
   ],
   "source": [
    "#Create a tuple with the first 5 positive integers. Convert it to a list, append the number 6, and convert it back to a tuple. Print the resulting tuple.\n",
    "\n",
    "tupe_c = (3, 4, 5, 6, 7)\n",
    "list_d = list(tupe_c)\n",
    "list_d\n",
    "list_d.append(6)\n",
    "print(list_d)\n",
    "tupe_d = tuple(list_d)\n",
    "print(tupe_d)"
   ]
  },
  {
   "cell_type": "code",
   "execution_count": 50,
   "id": "ea9674c8",
   "metadata": {},
   "outputs": [
    {
     "name": "stdout",
     "output_type": "stream",
     "text": [
      "Dawood John Ahmad\n"
     ]
    }
   ],
   "source": [
    "#Create a tuple with the characters of a string. Join the tuple elements into a single string. Print the string.\n",
    "\n",
    "tupp = (\"Dawood\", \"John\", \"Ahmad\")\n",
    "result = \" \".join(map(str, tupp))\n",
    "print(result)\n"
   ]
  },
  {
   "cell_type": "code",
   "execution_count": 58,
   "id": "581b9af2",
   "metadata": {},
   "outputs": [
    {
     "name": "stdout",
     "output_type": "stream",
     "text": [
      "{('apple', 1): 10, ('banana', 2): 20, ('cherry', 3): 30}\n"
     ]
    }
   ],
   "source": [
    "#Create a dictionary with tuple keys and integer values. Print the dictionary.\n",
    "\n",
    "dicc = {('apple', 1):10, ('banana', 2):20, ('cherry', 3):30}\n",
    "print(dicc)"
   ]
  },
  {
   "cell_type": "code",
   "execution_count": 61,
   "id": "31510762",
   "metadata": {},
   "outputs": [
    {
     "name": "stdout",
     "output_type": "stream",
     "text": [
      "1\n",
      "2\n",
      "3\n",
      "4\n",
      "5\n",
      "6\n",
      "7\n",
      "8\n",
      "9\n"
     ]
    }
   ],
   "source": [
    "#Create a nested tuple and iterate over the elements, printing each element.\n",
    "nested_tuple = ((1, 2, 3), (4, 5, 6), (7, 8, 9))\n",
    "\n",
    "for element in nested_tuple:\n",
    "    for sub_element in element:\n",
    "        print(sub_element)\n"
   ]
  },
  {
   "cell_type": "code",
   "execution_count": 63,
   "id": "8df01b95",
   "metadata": {},
   "outputs": [
    {
     "name": "stdout",
     "output_type": "stream",
     "text": [
      "{3, 5, 6, 7, 8}\n"
     ]
    }
   ],
   "source": [
    "#Create a tuple with duplicate elements. Convert it to a set to remove duplicates and print the resulting set.\n",
    "\n",
    "tupa = (3, 3, 5, 6, 7, 7, 8)\n",
    "tupaa = set(tupa)\n",
    "print(tupaa)"
   ]
  },
  {
   "cell_type": "code",
   "execution_count": 66,
   "id": "eeda9163",
   "metadata": {},
   "outputs": [
    {
     "name": "stdout",
     "output_type": "stream",
     "text": [
      "5\n",
      "1\n",
      "15\n",
      "5\n",
      "1\n",
      "15\n",
      "5\n",
      "1\n",
      "15\n",
      "5\n",
      "1\n",
      "15\n",
      "5\n",
      "1\n",
      "15\n"
     ]
    }
   ],
   "source": [
    "#Write functions that take a tuple and return the minimum, maximum, and sum of the elements. Print the results for a sample tuple.\n",
    "tuppaa = (1, 2, 3, 4, 5)\n",
    "def tupaa_ele():\n",
    "    min_val = min()\n",
    "tupaa_ele()\n"
   ]
  },
  {
   "cell_type": "code",
   "execution_count": 70,
   "id": "7d2921b8",
   "metadata": {},
   "outputs": [
    {
     "data": {
      "text/plain": [
       "(1, 5, 15)"
      ]
     },
     "execution_count": 70,
     "metadata": {},
     "output_type": "execute_result"
    }
   ],
   "source": [
    "# Sample tuple\n",
    "tuppaa = (1, 2, 3, 4, 5)\n",
    "\n",
    "# Function to return the minimum, maximum, and sum of elements in the tuple\n",
    "def tupaa_ele(tup):\n",
    "    min_val = min(tup)\n",
    "    max_val = max(tup)\n",
    "    total_sum = sum(tup)\n",
    "    \n",
    "    return min_val, max_val, total_sum\n",
    "tupaa_ele(tuppaa)\n"
   ]
  },
  {
   "cell_type": "code",
   "execution_count": null,
   "id": "00895fbd",
   "metadata": {},
   "outputs": [],
   "source": []
  }
 ],
 "metadata": {
  "kernelspec": {
   "display_name": "Python 3 (ipykernel)",
   "language": "python",
   "name": "python3"
  },
  "language_info": {
   "codemirror_mode": {
    "name": "ipython",
    "version": 3
   },
   "file_extension": ".py",
   "mimetype": "text/x-python",
   "name": "python",
   "nbconvert_exporter": "python",
   "pygments_lexer": "ipython3",
   "version": "3.11.4"
  }
 },
 "nbformat": 4,
 "nbformat_minor": 5
}
