{
 "cells": [
  {
   "cell_type": "markdown",
   "id": "ef55facd",
   "metadata": {},
   "source": [
    "# Module: File Handling Assignments\n",
    "## Lesson: File Handling and Operations\n",
    "### Assignment 1: Reading a File\n",
    "\n",
    "Write a function that reads the contents of a file named `sample.txt` and prints each line.\n",
    "\n",
    "### Assignment 2: Writing to a File\n",
    "\n",
    "Write a function that writes a list of strings to a file named `output.txt`, with each string on a new line.\n",
    "\n",
    "### Assignment 3: Copying a File\n",
    "\n",
    "Write a function that copies the contents of a file named `source.txt` to a new file named `destination.txt`.\n",
    "\n",
    "### Assignment 4: Appending to a File\n",
    "\n",
    "Write a function that appends a given string to the end of a file named `log.txt`.\n",
    "\n",
    "### Assignment 5: Counting Words in a File\n",
    "\n",
    "Write a function that reads the contents of a file named `document.txt` and returns the number of words in the file.\n",
    "\n",
    "### Assignment 6: Finding and Replacing Text\n",
    "\n",
    "Write a function that finds and replaces all occurrences of a given word in a file named `data.txt` with another word.\n",
    "\n",
    "### Assignment 7: Reading a File in Reverse\n",
    "\n",
    "Write a function that reads the contents of a file named `reverse.txt` and prints each line in reverse order.\n",
    "\n",
    "### Assignment 8: Counting Lines, Words, and Characters\n",
    "\n",
    "Write a function that reads the contents of a file named `stats.txt` and returns the number of lines, words, and characters in the file.\n",
    "\n",
    "### Assignment 9: Merging Multiple Files\n",
    "\n",
    "Write a function that merges the contents of multiple files into a single file named `merged.txt`.\n",
    "\n",
    "### Assignment 10: Splitting a Large File\n",
    "\n",
    "Write a function that splits a large file named `large.txt` into smaller files of 100 lines each.\n",
    "\n",
    "### Assignment 11: Creating a Log File\n",
    "\n",
    "Write a function that creates a log file named `activity.log` and writes log messages with timestamps.\n",
    "\n",
    "### Assignment 12: Binary File Operations\n",
    "\n",
    "Write a function that reads a binary file named `image.bin` and writes its contents to another binary file named `copy_image.bin`.\n",
    "\n",
    "### Assignment 13: CSV File Operations\n",
    "\n",
    "Write a function that reads a CSV file named `data.csv` and prints its contents as a list of dictionaries.\n",
    "\n",
    "### Assignment 14: JSON File Operations\n",
    "\n",
    "Write a function that reads a JSON file named `data.json` and prints its contents as a Python dictionary.\n",
    "\n",
    "### Assignment 15: File Permission Handling\n",
    "\n",
    "Write a function that attempts to read a file named `protected.txt` and handles any permission errors gracefully by printing an error message."
   ]
  },
  {
   "cell_type": "code",
   "execution_count": 5,
   "id": "2fbbe93b",
   "metadata": {},
   "outputs": [
    {
     "name": "stdout",
     "output_type": "stream",
     "text": [
      "example.txt has been created.\n"
     ]
    }
   ],
   "source": [
    "#Write a function that reads the contents of a file named sample.txt and prints each line.\n",
    "filename = \"example.txt\"\n",
    "with open (filename, 'w') as file:\n",
    "    file.write(\"How are you?.\\n\")\n",
    "    file.write(\"I am good.\")\n",
    "    \n",
    "    print(f\"{filename} has been created.\")"
   ]
  },
  {
   "cell_type": "code",
   "execution_count": 6,
   "id": "ad7257e9",
   "metadata": {},
   "outputs": [
    {
     "name": "stdout",
     "output_type": "stream",
     "text": [
      "How are you?.\n",
      "I am good.\n"
     ]
    }
   ],
   "source": [
    "with open (filename, 'r') as file:\n",
    "    content = file.read()\n",
    "    print(content)"
   ]
  },
  {
   "cell_type": "code",
   "execution_count": 7,
   "id": "2f7516a7",
   "metadata": {},
   "outputs": [],
   "source": [
    "#Write a function that writes a list of strings to a file named output.txt, with each string on a new line.\n",
    "with open(filename, 'w') as file:\n",
    "    file.write(\"When are you coming.\\n\")\n",
    "    file.write(\"I am coming soon.\")"
   ]
  },
  {
   "cell_type": "code",
   "execution_count": 8,
   "id": "14e4c393",
   "metadata": {},
   "outputs": [
    {
     "name": "stdout",
     "output_type": "stream",
     "text": [
      "When are you coming.\n",
      "I am coming soon.\n"
     ]
    }
   ],
   "source": [
    "with open(filename, 'r') as file:\n",
    "    content = file.read()\n",
    "    print(content)"
   ]
  },
  {
   "cell_type": "code",
   "execution_count": 17,
   "id": "3e038f61",
   "metadata": {},
   "outputs": [
    {
     "name": "stdout",
     "output_type": "stream",
     "text": [
      "\u0000\u0001\u0002\u0003\u0004\n"
     ]
    }
   ],
   "source": [
    "#Write a function that copies the contents of a file named source.txt to a new file named destination.txt\n",
    "\n",
    "with open('filename', 'r') as source_file:\n",
    "    content = source_file.read()\n",
    "\n",
    "with open('sourcefile.txt', 'w') as destination_file:\n",
    "    destination_file.write(content)\n",
    "with open('sourcefile.txt', 'r') as file:\n",
    "    content = file.read()\n",
    "    print(content)"
   ]
  },
  {
   "cell_type": "code",
   "execution_count": 14,
   "id": "1ff5409a",
   "metadata": {},
   "outputs": [
    {
     "name": "stdout",
     "output_type": "stream",
     "text": [
      "b'\\x00\\x01\\x02\\x03\\x04'\n"
     ]
    }
   ],
   "source": [
    "#Write a function that reads a binary file named image.bin and writes its contents to another binary file named copy_image.bin.\n",
    "filename = 'example_1.bin'\n",
    "data = b'\\x00\\x01\\x02\\x03\\x04'\n",
    "with open('filename', 'wb') as file:\n",
    "    file.write(data)\n",
    "    \n",
    "with open('filename', 'rb') as file:\n",
    "    content = file.read()\n",
    "    print(content)"
   ]
  },
  {
   "cell_type": "code",
   "execution_count": 20,
   "id": "002de80b",
   "metadata": {},
   "outputs": [
    {
     "name": "stdout",
     "output_type": "stream",
     "text": [
      "How are you?\n"
     ]
    }
   ],
   "source": [
    "#Write a function that appends a given string to the end of a file named log.txt\n",
    "\n",
    "filename= \"log.txt\"\n",
    "\n",
    "with open('filename ', 'w') as file:\n",
    "    file.write('How are you?')\n",
    "with open('filename', 'r') as file:\n",
    "    content = file.read()\n",
    "    print(content)\n"
   ]
  },
  {
   "cell_type": "code",
   "execution_count": 22,
   "id": "4f9ad934",
   "metadata": {},
   "outputs": [
    {
     "name": "stdout",
     "output_type": "stream",
     "text": [
      "How are you?my name is Dawoodmy name is Dawood\n"
     ]
    }
   ],
   "source": [
    "with open('filename', 'a') as file:\n",
    "    file.write('my name is Dawood')\n",
    "with open('filename', 'r') as file:\n",
    "    content = file.read()\n",
    "    print(content)\n",
    "    "
   ]
  },
  {
   "cell_type": "code",
   "execution_count": 28,
   "id": "a1d67f45",
   "metadata": {},
   "outputs": [
    {
     "name": "stdout",
     "output_type": "stream",
     "text": [
      "Words: 8\n"
     ]
    }
   ],
   "source": [
    "#Write a function that reads the contents of a file named document.txt and returns the number of words in the file.\n",
    "def count_text_file(filename):\n",
    "    with open(filename, 'r') as file:\n",
    "        word_count = sum(len(line.split()) for line in file)\n",
    "    return word_count\n",
    "\n",
    "# Call the function and print the result\n",
    "filename = 'example.txt'\n",
    "word_count = count_text_file(filename)\n",
    "print(f'Words: {word_count}')\n"
   ]
  },
  {
   "cell_type": "code",
   "execution_count": 38,
   "id": "64a86d4f",
   "metadata": {},
   "outputs": [
    {
     "name": "stdout",
     "output_type": "stream",
     "text": [
      "Replaced 'you' with 'me' in example.txt\n",
      "When are me coming.\n",
      "I am coming soon.\n"
     ]
    }
   ],
   "source": [
    "#Write a function that finds and replaces all occurrences of a given word in a file named data.txt with another word.\n",
    "def find_replace_word(filename, old_word, new_word):\n",
    "    with open(filename, 'r') as file:\n",
    "        content = file.read()\n",
    "    updated_content = content.replace(old_word,new_word)\n",
    "    with open(filename, 'w') as file:\n",
    "        file.write(updated_content)\n",
    "    return f\"Replaced '{old_word}' with '{new_word}' in {filename}\"\n",
    "filename = 'example.txt'\n",
    "func= find_replace_word(filename, 'you', 'me')\n",
    "print(func)\n",
    "\n",
    "    \n",
    "with open(filename, 'r') as file:\n",
    "    content = file.read()\n",
    "    print(content)\n"
   ]
  },
  {
   "cell_type": "code",
   "execution_count": 41,
   "id": "cecbf088",
   "metadata": {},
   "outputs": [
    {
     "name": "stdout",
     "output_type": "stream",
     "text": [
      ".noos gnimoc ma I\n",
      ".gnimoc em era nehW\n"
     ]
    }
   ],
   "source": [
    "#Write a function that reads the contents of a file named reverse.txt and prints each line in reverse order.\n",
    "def reverse_func(filename):\n",
    "    with open(filename, 'r') as file:\n",
    "        content = file.read()\n",
    "    reverse_order = content[::-1]\n",
    "    return reverse_order\n",
    "filename = 'example.txt'\n",
    "func_1 = reverse_func(filename)\n",
    "print(func_1)"
   ]
  },
  {
   "cell_type": "code",
   "execution_count": 50,
   "id": "7032c714",
   "metadata": {},
   "outputs": [
    {
     "name": "stdout",
     "output_type": "stream",
     "text": [
      "Words: 8, Lines:2, Characters:37\n"
     ]
    }
   ],
   "source": [
    "#Write a function that reads the contents of a file named stats.txt and returns the number of lines, words, and characters in the file.\n",
    "\n",
    "def count_text_file(filename):\n",
    "    with open(filename, 'r') as file:\n",
    "        word_count = sum(len(line.split()) for line in file)\n",
    "    with open(filename, 'r') as file:\n",
    "        line_count = sum(1 for line in file)\n",
    "    with open(filename, 'r') as file:\n",
    "        char_count = sum(len(line) for line in file)\n",
    "    return word_count, line_count, char_count\n",
    "\n",
    "# Call the function and print the result\n",
    "filename = 'example.txt'\n",
    "word_count, line_count, char_count = count_text_file(filename)\n",
    "print(f'Words: {word_count}, Lines:{line_count}, Characters:{char_count}')\n"
   ]
  },
  {
   "cell_type": "code",
   "execution_count": 55,
   "id": "a2b49cff",
   "metadata": {},
   "outputs": [
    {
     "name": "stdout",
     "output_type": "stream",
     "text": [
      "<_io.TextIOWrapper name='finalfile.txt' mode='w' encoding='cp1252'>\n"
     ]
    }
   ],
   "source": [
    "#Write a function that merges the contents of multiple files into a single file named merged.txt.\n",
    "\n",
    "def merge_func(filenames, output_filename):\n",
    "    with open(output_filename, 'w') as output_file:\n",
    "        for filename in filenames:\n",
    "            with open(filename1, 'r') as input_file:\n",
    "                content = input_file.read()\n",
    "                output_file.write(content + \"\\n\")\n",
    "    return output_file\n",
    "\n",
    "filenames = [\"example.txt\", \"sourcefile.txt\"]\n",
    "    \n",
    "func_3 = merge_func(filenames, 'finalfile.txt')\n",
    "print(func_3)"
   ]
  },
  {
   "cell_type": "code",
   "execution_count": 58,
   "id": "00d95091",
   "metadata": {},
   "outputs": [
    {
     "name": "stdout",
     "output_type": "stream",
     "text": [
      "Created file: line_1.txt\n",
      "Created file: line_2.txt\n"
     ]
    }
   ],
   "source": [
    "#Write a function that splits a large file named large.txt into smaller files of 100 lines each.\n",
    "def split_func(large_file):\n",
    "    with open(large_file, 'r') as file:\n",
    "        for i, line in enumerate(file, start=1):\n",
    "            # Create a new file for each line and write the line into that file\n",
    "            small_file_name = f\"line_{i}.txt\"\n",
    "            with open(small_file_name, 'w') as small_file:\n",
    "                small_file.write(line)\n",
    "            print(f\"Created file: {small_file_name}\")\n",
    "\n",
    "# Call the function with the large file name\n",
    "large_file = \"example.txt\"\n",
    "split_func(large_file)\n"
   ]
  },
  {
   "cell_type": "code",
   "execution_count": 59,
   "id": "6f028a2a",
   "metadata": {},
   "outputs": [],
   "source": [
    "#Write a function that creates a log file named activity.log and writes log messages with timestamps.\n",
    "import logging\n",
    "\n",
    "# Configure the logger\n",
    "logging.basicConfig(\n",
    "    filename='activity.log',         # Log messages will be written to 'activity.log'\n",
    "    level=logging.INFO,              # Set the log level to INFO (could also be DEBUG, WARNING, etc.)\n",
    "    format='%(asctime)s - %(levelname)s - %(message)s',  # Include timestamp and log level in the log message\n",
    ")\n",
    "\n",
    "# Example log messages\n",
    "logging.info('This is an info message')\n",
    "logging.warning('This is a warning message')\n",
    "logging.error('This is an error message')\n",
    "\n",
    "# You can also add more dynamic log messages if needed\n",
    "def perform_task():\n",
    "    logging.info('Starting a task...')\n",
    "    try:\n",
    "        # Simulate some operation\n",
    "        result = 10 / 2\n",
    "        logging.info(f'Task completed successfully with result: {result}')\n",
    "    except Exception as e:\n",
    "        logging.error(f'Error occurred: {str(e)}')\n",
    "\n",
    "perform_task()\n"
   ]
  },
  {
   "cell_type": "code",
   "execution_count": null,
   "id": "5b100b40",
   "metadata": {},
   "outputs": [],
   "source": [
    "#Write a function that reads a CSV file named data.csv and prints its contents as a list of dictionaries.\n",
    "import pandas as pd\n",
    "def csv_rd(file_path):\n",
    "    df = pd.read_csv(file_path)\n",
    "    data = df.to_dict(orient ='records')\n",
    "    return data\n",
    "data = csv_rd('data.csv')\n",
    "print(data)"
   ]
  },
  {
   "cell_type": "code",
   "execution_count": null,
   "id": "f7584a23",
   "metadata": {},
   "outputs": [],
   "source": [
    "#Write a function that attempts to read a file named protected.txt and handles any permission errors gracefully by printing an error message.\n",
    "\n",
    "def file_rd(file_path):\n",
    "    try:\n",
    "        with open(\"protected.txt\", 'r') as file:\n",
    "            content = file.read()\n",
    "            print(content)\n",
    "    except PermissionError:\n",
    "        print(f\"Error: You do not have permission to read the file: {file_path}\")\n",
    "    except FileNotFoundError:\n",
    "        print(f\"Error: The file {file_path} was not found.\")\n",
    "    except "
   ]
  }
 ],
 "metadata": {
  "kernelspec": {
   "display_name": "Python 3 (ipykernel)",
   "language": "python",
   "name": "python3"
  },
  "language_info": {
   "codemirror_mode": {
    "name": "ipython",
    "version": 3
   },
   "file_extension": ".py",
   "mimetype": "text/x-python",
   "name": "python",
   "nbconvert_exporter": "python",
   "pygments_lexer": "ipython3",
   "version": "3.11.4"
  }
 },
 "nbformat": 4,
 "nbformat_minor": 5
}
