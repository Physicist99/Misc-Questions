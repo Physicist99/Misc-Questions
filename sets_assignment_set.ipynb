{
 "cells": [
  {
   "cell_type": "markdown",
   "id": "09ae72d8",
   "metadata": {},
   "source": [
    "# Module 3: Data Structures Assignments\n",
    "## Lesson 3.3: Sets\n",
    "### Assignment 1: Creating and Accessing Sets\n",
    "\n",
    "Create a set with the first 10 positive integers. Print the set.\n",
    "\n",
    "### Assignment 2: Adding and Removing Elements\n",
    "\n",
    "Add the number 11 to the set created in Assignment 1. Then remove the number 1 from the set. Print the modified set.\n",
    "\n",
    "### Assignment 3: Set Operations\n",
    "\n",
    "Create two sets: one with the first 5 positive integers and another with the first 5 even integers. Perform and print the results of union, intersection, difference, and symmetric difference operations on these sets.\n",
    "\n",
    "### Assignment 4: Set Comprehensions\n",
    "\n",
    "Create a new set containing the squares of the first 10 positive integers using a set comprehension. Print the new set.\n",
    "\n",
    "### Assignment 5: Filtering Sets\n",
    "\n",
    "Create a new set containing only the even numbers from the set created in Assignment 1 using a set comprehension. Print the new set.\n",
    "\n",
    "### Assignment 6: Set Methods\n",
    "\n",
    "Create a set with duplicate elements and remove the duplicates using set methods. Print the modified set.\n",
    "\n",
    "### Assignment 7: Subsets and Supersets\n",
    "\n",
    "Create two sets: one with the first 5 positive integers and another with the first 3 positive integers. Check if the second set is a subset of the first set and if the first set is a superset of the second set. Print the results.\n",
    "\n",
    "### Assignment 8: Frozenset\n",
    "\n",
    "Create a frozenset with the first 5 positive integers. Print the frozenset.\n",
    "\n",
    "### Assignment 9: Set and List Conversion\n",
    "\n",
    "Create a set with the first 5 positive integers. Convert it to a list, append the number 6, and convert it back to a set. Print the resulting set.\n",
    "\n",
    "### Assignment 10: Set and Dictionary\n",
    "\n",
    "Create a dictionary with set keys and integer values. Print the dictionary.\n",
    "\n",
    "### Assignment 11: Iterating Over Sets\n",
    "\n",
    "Create a set and iterate over the elements, printing each element.\n",
    "\n",
    "### Assignment 12: Removing Elements from Sets\n",
    "\n",
    "Create a set and remove elements from it until it is empty. Print the set after each removal.\n",
    "\n",
    "### Assignment 13: Set Symmetric Difference Update\n",
    "\n",
    "Create two sets and update the first set with the symmetric difference of the two sets. Print the modified first set.\n",
    "\n",
    "### Assignment 14: Set Membership Testing\n",
    "\n",
    "Create a set and test if certain elements are present in the set. Print the results.\n",
    "\n",
    "### Assignment 15: Set of Tuples\n",
    "\n",
    "Create a set containing tuples, where each tuple contains two elements. Print the set."
   ]
  },
  {
   "cell_type": "code",
   "execution_count": 1,
   "id": "63516096",
   "metadata": {},
   "outputs": [
    {
     "name": "stdout",
     "output_type": "stream",
     "text": [
      "{1, 2, 3, 4, 5, 6, 7, 8, 9, 10}\n"
     ]
    }
   ],
   "source": [
    "#Create a set with the first 10 positive integers. Print the set.\n",
    "s = set(range(1, 11))\n",
    "print(s)\n"
   ]
  },
  {
   "cell_type": "code",
   "execution_count": 2,
   "id": "99461897",
   "metadata": {},
   "outputs": [
    {
     "name": "stdout",
     "output_type": "stream",
     "text": [
      "{2, 3, 4, 5, 6, 7, 8, 9, 10, 11}\n"
     ]
    }
   ],
   "source": [
    "#Add the number 11 to the set created in Assignment 1. Then remove the number 1 from the set. Print the modified set.\n",
    "s.add(11)\n",
    "s.remove(1)\n",
    "print(s)\n"
   ]
  },
  {
   "cell_type": "code",
   "execution_count": 3,
   "id": "0a333033",
   "metadata": {},
   "outputs": [
    {
     "name": "stdout",
     "output_type": "stream",
     "text": [
      "Union:{1, 2, 3, 4, 5}\n",
      "Intersection: {1, 2, 3, 4, 5}\n",
      "Difference: set()\n",
      "Symmetric Difference: set()\n",
      "{1, 2, 3, 4, 5}\n",
      "{1, 2, 3, 4, 5}\n"
     ]
    }
   ],
   "source": [
    "#Create two sets: one with the first 5 positive integers and another with the first 5 even integers. Perform and print the results of union, intersection, difference, and symmetric difference operations on these sets.\n",
    "\n",
    "s_1 = set(range(1, 6))\n",
    "s_2 = set(range(1, 6))\n",
    "print(f\"Union:{s_1 | s_2}\")\n",
    "print(f\"Intersection: {s_1 & s_2}\")\n",
    "print(f\"Difference: {s_1 - s_2}\")\n",
    "print(f\"Symmetric Difference: {s_1 ^ s_2}\")\n",
    "\n",
    "print(s_1)\n",
    "print(s_2)"
   ]
  },
  {
   "cell_type": "code",
   "execution_count": 4,
   "id": "5d245224",
   "metadata": {},
   "outputs": [
    {
     "name": "stdout",
     "output_type": "stream",
     "text": [
      "{64, 1, 4, 36, 100, 9, 16, 49, 81, 25}\n"
     ]
    }
   ],
   "source": [
    "#Create a new set containing the squares of the first 10 positive integers using a set comprehension. Print the new set.\n",
    "\n",
    "squares = {x**2 for x in range(1, 11)}\n",
    "print(squares)"
   ]
  },
  {
   "cell_type": "code",
   "execution_count": 5,
   "id": "2496810d",
   "metadata": {},
   "outputs": [
    {
     "name": "stdout",
     "output_type": "stream",
     "text": [
      "{2, 4, 6, 8, 10}\n"
     ]
    }
   ],
   "source": [
    "#Create a new set containing only the even numbers from the set created in Assignment 1 using a set comprehension. Print the new set.\n",
    "even_1 = {x for x in range(1, 11) if x%2==0}\n",
    "print(even_1)"
   ]
  },
  {
   "cell_type": "code",
   "execution_count": 6,
   "id": "4f5bdc1b",
   "metadata": {},
   "outputs": [
    {
     "name": "stdout",
     "output_type": "stream",
     "text": [
      "{1, 3, 4, 5, 6}\n"
     ]
    }
   ],
   "source": [
    "#Create a set with duplicate elements and remove the duplicates using set methods. Print the modified set.\n",
    "s_3 = {1,1, 3, 3, 4, 5, 6}\n",
    "unique_s = set(s_3)\n",
    "print(s_3)"
   ]
  },
  {
   "cell_type": "code",
   "execution_count": 7,
   "id": "0b916989",
   "metadata": {},
   "outputs": [
    {
     "name": "stdout",
     "output_type": "stream",
     "text": [
      "Is s_2 a subset of s_1?True\n",
      "Is s_1 a subset of s_2?True\n"
     ]
    }
   ],
   "source": [
    "#Create two sets: one with the first 5 positive integers and another with the first 3 positive integers. #Check if the second set is a subset of the first set and if the first set is a superset of the second set. Print the results.\n",
    "s_1 = set(range(1, 6))\n",
    "s_2 = set(range(1, 6))\n",
    "print(f\"Is s_2 a subset of s_1?{s_2.issubset(s_1)}\")\n",
    "print(f\"Is s_1 a subset of s_2?{s_1.issubset(s_2)}\")"
   ]
  },
  {
   "cell_type": "code",
   "execution_count": 8,
   "id": "4d5d1265",
   "metadata": {},
   "outputs": [
    {
     "name": "stdout",
     "output_type": "stream",
     "text": [
      "frozenset({1, 2, 3, 4, 5})\n"
     ]
    }
   ],
   "source": [
    "#Create a frozenset with the first 5 positive integers. Print the frozenset.\n",
    "fs = frozenset(range(1, 6))\n",
    "print(fs)"
   ]
  },
  {
   "cell_type": "code",
   "execution_count": 9,
   "id": "11196c3c",
   "metadata": {},
   "outputs": [
    {
     "name": "stdout",
     "output_type": "stream",
     "text": [
      "{1, 2, 3, 4, 5}\n",
      "[1, 2, 3, 4, 5]\n"
     ]
    }
   ],
   "source": [
    "#Create a set with the first 5 positive integers. Convert it to a list, append the number 6, and convert it back to a set. Print the resulting set.\n",
    "\n",
    "s_a = set(range(1, 6))\n",
    "print(s_a)\n",
    "lst_a = list(s_a)\n",
    "print(lst_a)"
   ]
  },
  {
   "cell_type": "code",
   "execution_count": 10,
   "id": "d4d23874",
   "metadata": {},
   "outputs": [
    {
     "name": "stdout",
     "output_type": "stream",
     "text": [
      "Dawood\n"
     ]
    }
   ],
   "source": [
    "#Create a dictionary with set keys and integer values. Print the dictionary.\n",
    "dic_a = {\"name\": \"Dawood\", \"age\": \"50\", \"education\": \"PhD\"}\n",
    "print(dic_a[\"name\"])"
   ]
  },
  {
   "cell_type": "code",
   "execution_count": 11,
   "id": "f4013553",
   "metadata": {},
   "outputs": [
    {
     "name": "stdout",
     "output_type": "stream",
     "text": [
      "{frozenset({1, 2}): 3, frozenset({3, 4}): 7, frozenset({5, 6}): 11}\n"
     ]
    }
   ],
   "source": [
    "d = {frozenset({1, 2}):3,\n",
    "    frozenset({3, 4}):7,\n",
    "    frozenset({5, 6}): 11}\n",
    "print(d)"
   ]
  },
  {
   "cell_type": "code",
   "execution_count": 13,
   "id": "323166bc",
   "metadata": {},
   "outputs": [
    {
     "name": "stdout",
     "output_type": "stream",
     "text": [
      "1\n",
      "2\n",
      "3\n",
      "4\n",
      "5\n",
      "6\n",
      "7\n",
      "8\n",
      "9\n",
      "10\n"
     ]
    }
   ],
   "source": [
    "#Create a set and iterate over the elements, printing each element.\n",
    "\n",
    "s_f = set(range(1, 11))\n",
    "for i in s_f:\n",
    "    print(i)"
   ]
  },
  {
   "cell_type": "code",
   "execution_count": 14,
   "id": "3425d7df",
   "metadata": {},
   "outputs": [
    {
     "name": "stdout",
     "output_type": "stream",
     "text": [
      "{2, 3, 4, 5}\n",
      "{3, 4, 5}\n",
      "{4, 5}\n",
      "{5}\n",
      "set()\n"
     ]
    }
   ],
   "source": [
    "#Create a set and remove elements from it until it is empty. Print the set after each removal.\n",
    "s = set(range(1, 6))\n",
    "while s:\n",
    "    s.pop()\n",
    "    print(s)"
   ]
  },
  {
   "cell_type": "code",
   "execution_count": 18,
   "id": "212afd91",
   "metadata": {},
   "outputs": [
    {
     "data": {
      "text/plain": [
       "'Symmetric difference :{1, 5, 6, 7, 8}'"
      ]
     },
     "execution_count": 18,
     "metadata": {},
     "output_type": "execute_result"
    }
   ],
   "source": [
    "#Create two sets and update the first set with the symmetric difference of the two sets. Print the modified first set.\n",
    "s_d = {1, 4,5, 6}\n",
    "\n",
    "s_e = {7, 4, 8, 8}\n",
    "(f\"Symmetric difference :{s_d ^ s_e}\")"
   ]
  },
  {
   "cell_type": "code",
   "execution_count": 19,
   "id": "c3415f46",
   "metadata": {},
   "outputs": [
    {
     "name": "stdout",
     "output_type": "stream",
     "text": [
      "True\n",
      "False\n"
     ]
    }
   ],
   "source": [
    "#Create a set and test if certain elements are present in the set. Print the results.\n",
    "sett= set(range(1, 10))\n",
    "print(3 in sett)\n",
    "print(10 in sett)"
   ]
  },
  {
   "cell_type": "code",
   "execution_count": 21,
   "id": "ace56af4",
   "metadata": {},
   "outputs": [
    {
     "name": "stdout",
     "output_type": "stream",
     "text": [
      "{(6, 8), (1, 2), (3, 4)}\n"
     ]
    }
   ],
   "source": [
    "#Create a set containing tuples, where each tuple contains two elements. Print the set.\n",
    "tuppa = {(1,2), (3, 4), (6, 8)}\n",
    "print(tuppa)"
   ]
  },
  {
   "cell_type": "code",
   "execution_count": null,
   "id": "4ee0a3eb",
   "metadata": {},
   "outputs": [],
   "source": []
  }
 ],
 "metadata": {
  "kernelspec": {
   "display_name": "Python 3 (ipykernel)",
   "language": "python",
   "name": "python3"
  },
  "language_info": {
   "codemirror_mode": {
    "name": "ipython",
    "version": 3
   },
   "file_extension": ".py",
   "mimetype": "text/x-python",
   "name": "python",
   "nbconvert_exporter": "python",
   "pygments_lexer": "ipython3",
   "version": "3.11.4"
  }
 },
 "nbformat": 4,
 "nbformat_minor": 5
}
