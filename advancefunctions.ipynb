{
 "cells": [
  {
   "cell_type": "markdown",
   "id": "a2ce46ec",
   "metadata": {},
   "source": [
    "# Module 4: Advanced Functions Assignments\n",
    "## Lesson 4.1: Defining Functions\n",
    "### Assignment 1: Fibonacci Sequence with Memoization\n",
    "\n",
    "Define a recursive function to calculate the nth Fibonacci number using memoization. Test the function with different inputs.\n",
    "\n",
    "### Assignment 2: Function with Nested Default Arguments\n",
    "\n",
    "Define a function that takes two arguments, a and b, where b is a dictionary with a default value of an empty dictionary. The function should add a new key-value pair to the dictionary and return it. Test the function with different inputs.\n",
    "\n",
    "### Assignment 3: Function with Variable Keyword Arguments\n",
    "\n",
    "Define a function that takes a variable number of keyword arguments and returns a dictionary containing only those key-value pairs where the value is an integer. Test the function with different inputs.\n",
    "\n",
    "### Assignment 4: Function with Callback\n",
    "\n",
    "Define a function that takes another function as a callback and a list of integers. The function should apply the callback to each integer in the list and return a new list with the results. Test with different callback functions.\n",
    "\n",
    "### Assignment 5: Function that Returns a Function\n",
    "\n",
    "Define a function that returns another function. The returned function should take an integer and return its square. Test the returned function with different inputs.\n",
    "\n",
    "### Assignment 6: Function with Decorators\n",
    "\n",
    "Define a function that calculates the time taken to execute another function. Apply this decorator to a function that performs a complex calculation. Test the decorated function with different inputs.\n",
    "\n",
    "### Assignment 7: Higher-Order Function for Filtering and Mapping\n",
    "\n",
    "Define a higher-order function that takes two functions, a filter function and a map function, along with a list of integers. The higher-order function should first filter the integers using the filter function and then apply the map function to the filtered integers. Test with different filter and map functions.\n",
    "\n",
    "### Assignment 8: Function Composition\n",
    "\n",
    "Define a function that composes two functions, f and g, such that the result is f(g(x)). Test with different functions f and g.\n",
    "\n",
    "### Assignment 9: Partial Function Application\n",
    "\n",
    "Use the functools.partial function to create a new function that multiplies its input by 2. Test the new function with different inputs.\n",
    "\n",
    "### Assignment 10: Function with Error Handling\n",
    "\n",
    "Define a function that takes a list of integers and returns their average. The function should handle any errors that occur (e.g., empty list) and return None in such cases. Test with different inputs.\n",
    "\n",
    "### Assignment 11: Function with Generators\n",
    "\n",
    "Define a function that generates an infinite sequence of Fibonacci numbers. Test by printing the first 10 numbers in the sequence.\n",
    "\n",
    "### Assignment 12: Currying\n",
    "\n",
    "Define a curried function that takes three arguments, one at a time, and returns their product. Test the function by providing arguments one at a time.\n",
    "\n",
    "### Assignment 13: Function with Context Manager\n",
    "\n",
    "Define a function that uses a context manager to write a list of integers to a file. The function should handle any errors that occur during file operations. Test with different lists.\n",
    "\n",
    "### Assignment 14: Function with Multiple Return Types\n",
    "\n",
    "Define a function that takes a list of mixed data types (integers, strings, and floats) and returns three lists: one containing all the integers, one containing all the strings, and one containing all the floats. Test with different inputs.\n",
    "\n",
    "### Assignment 15: Function with State\n",
    "\n",
    "Define a function that maintains state between calls using a mutable default argument. The function should keep track of how many times it has been called. Test by calling the function multiple times."
   ]
  },
  {
   "cell_type": "code",
   "execution_count": 1,
   "id": "74b0af06",
   "metadata": {},
   "outputs": [
    {
     "name": "stdout",
     "output_type": "stream",
     "text": [
      "55\n",
      "610\n"
     ]
    }
   ],
   "source": [
    "#Define a recursive function to calculate the nth Fibonacci number using memoization. Test the function with different inputs.\n",
    "def fibonacci(n, memo={}):\n",
    "    if n in memo:\n",
    "        return memo[n]\n",
    "    if n<=1:\n",
    "        return n\n",
    "    memo[n] = fibonacci(n-1, memo) + fibonacci(n-2,memo)\n",
    "    return memo[n]\n",
    "print(fibonacci(10))\n",
    "print(fibonacci(15))\n"
   ]
  },
  {
   "cell_type": "code",
   "execution_count": 2,
   "id": "e1bdfd59",
   "metadata": {},
   "outputs": [
    {
     "name": "stdout",
     "output_type": "stream",
     "text": [
      "{2: 4}\n"
     ]
    }
   ],
   "source": [
    "#Define a function that takes two arguments, a and b, where b is a dictionary with a default value of an empty dictionary. The function should add a new key-value pair to the dictionary and return it. Test the function with different inputs.\n",
    "\n",
    "def func_a(a, b=None):\n",
    "    if b is None:\n",
    "        b = {}\n",
    "    b[a] = a**2\n",
    "    return b\n",
    "print(func_a(2))\n",
    "        "
   ]
  },
  {
   "cell_type": "code",
   "execution_count": 3,
   "id": "8697cacf",
   "metadata": {},
   "outputs": [
    {
     "name": "stdout",
     "output_type": "stream",
     "text": [
      "{'a': 1, 'c': 3}\n"
     ]
    }
   ],
   "source": [
    "#Define a function that takes a variable number of keyword arguments and returns a dictionary containing only those key-value pairs where the value is an integer. Test the function with different inputs.\n",
    "\n",
    "\n",
    "def funcc_a(**kwargs):\n",
    "    return{k:v for k, v in kwargs.items() if isinstance(v,int)}\n",
    "print(funcc_a(a=1, b='two', c=3))\n",
    "\n",
    "\n"
   ]
  },
  {
   "cell_type": "code",
   "execution_count": 4,
   "id": "e61d775d",
   "metadata": {},
   "outputs": [
    {
     "name": "stdout",
     "output_type": "stream",
     "text": [
      "[1, 4, 9, 16]\n"
     ]
    }
   ],
   "source": [
    "#Define a function that takes another function as a callback and a list of integers. The function should apply the callback to each integer in the list and return a new list with the results. Test with different callback functions.\n",
    "\n",
    "def func_cal(callback, lst):\n",
    "    return [callback(x) for x in lst]\n",
    "print(func_cal(lambda x:x**2, [1, 2, 3, 4]))"
   ]
  },
  {
   "cell_type": "code",
   "execution_count": 5,
   "id": "0596a1cb",
   "metadata": {},
   "outputs": [
    {
     "name": "stdout",
     "output_type": "stream",
     "text": [
      "4\n"
     ]
    }
   ],
   "source": [
    "#Define a function that returns another function. The returned function should take an integer and return its square. Test the returned function with different inputs.\n",
    "\n",
    "def func_ab():\n",
    "    def inner_func(x):\n",
    "        return x**2\n",
    "    return inner_func\n",
    "square = func_ab()\n",
    "print(square(2))"
   ]
  },
  {
   "cell_type": "code",
   "execution_count": 6,
   "id": "be3454a7",
   "metadata": {},
   "outputs": [
    {
     "name": "stdout",
     "output_type": "stream",
     "text": [
      "333283335000\n"
     ]
    }
   ],
   "source": [
    "#Define a function that calculates the time taken to execute another function. Apply this decorator to a function that performs a complex calculation. Test the decorated function with different inputs.\n",
    "import time\n",
    "\n",
    "def time_decorator(func):\n",
    "    def wrapper(*args, **kwargs):\n",
    "        start_time = time.time()\n",
    "        result = func(*args, **kwargs)\n",
    "        end_time = time.time()\n",
    "        print(f\"Function{func.__name__} took {end_time - start_time} seconds to execute.\")\n",
    "        return result\n",
    "    return wrapper\n",
    "\n",
    "def complex_calculation(n):\n",
    "    return sum(x**2 for x in range(n))\n",
    "print(complex_calculation(10000))"
   ]
  },
  {
   "cell_type": "code",
   "execution_count": 7,
   "id": "af218094",
   "metadata": {},
   "outputs": [
    {
     "name": "stdout",
     "output_type": "stream",
     "text": [
      "[4, 16]\n"
     ]
    }
   ],
   "source": [
    "#Define a higher-order function that takes two functions, a filter function and a map function, along with a list of integers. The higher-order function should first filter the integers using the filter function and then apply the map function to the filtered integers. Test with different filter and map functions.\n",
    "\n",
    "\n",
    "def filter_map(filter_func, map_func, lst):\n",
    "    return [map_func(x) for x in lst if filter_func(x)]\n",
    "\n",
    "print(filter_map(lambda x:x%2==0, lambda x:x**2, [1, 2, 3, 4, 5]))"
   ]
  },
  {
   "cell_type": "code",
   "execution_count": 8,
   "id": "84d22464",
   "metadata": {},
   "outputs": [
    {
     "name": "stdout",
     "output_type": "stream",
     "text": [
      "7\n"
     ]
    }
   ],
   "source": [
    "#Define a function that composes two functions, f and g, such that the result is f(g(x)). Test with different functions f and g.\n",
    "\n",
    "def func_comp(f, g):\n",
    "    return lambda x:f(g(x))\n",
    "f = lambda x:x+1\n",
    "g = lambda x:x*2\n",
    "h = func_comp(f, g)\n",
    "print(h(3))"
   ]
  },
  {
   "cell_type": "code",
   "execution_count": 9,
   "id": "3aee41bb",
   "metadata": {},
   "outputs": [
    {
     "name": "stdout",
     "output_type": "stream",
     "text": [
      "6\n"
     ]
    }
   ],
   "source": [
    "#Use the functools.partial function to create a new function that multiplies its input by 2. Test the new function with different inputs.\n",
    "\n",
    "from functools import partial\n",
    "multiply_by_2 = partial(lambda x, y:x*y, 2)\n",
    "print(multiply_by_2(3))"
   ]
  },
  {
   "cell_type": "code",
   "execution_count": 10,
   "id": "654a7f7e",
   "metadata": {},
   "outputs": [
    {
     "name": "stdout",
     "output_type": "stream",
     "text": [
      "2.5\n"
     ]
    }
   ],
   "source": [
    "#Define a function that takes a list of integers and returns their average. The function should handle any errors that occur (e.g., empty list) and return None in such cases. Test with different inputs.\n",
    "\n",
    "\n",
    "def fuca(lst):\n",
    "    try:\n",
    "        return sum(lst)/len(lst)\n",
    "    except zeroDivisionError:\n",
    "        return None\n",
    "print(fuca([1, 2, 3, 4]))\n",
    "    "
   ]
  },
  {
   "cell_type": "code",
   "execution_count": null,
   "id": "f7ec0e5e",
   "metadata": {},
   "outputs": [],
   "source": [
    "#Define a function that generates an infinite sequence of Fibonacci numbers. Test by printing the first 10 numbers in the sequence.\n",
    "\n",
    "def fibonacci_generator():\n",
    "    a, b = 0, 1\n",
    "    while True:\n",
    "        a, b = b, a+b\n",
    "fib_gen = fibonacci_generator()\n",
    "for _ in range(10):\n",
    "    print(next(fib_gen))"
   ]
  },
  {
   "cell_type": "code",
   "execution_count": null,
   "id": "c05ee8b9",
   "metadata": {},
   "outputs": [],
   "source": [
    "#Define a curried function that takes three arguments, one at a time, and returns their product. Test the function by providing arguments one at a time.\n",
    "\n",
    "def curry_product(x):\n",
    "    def inner_1(y):\n",
    "        def inner_2(z):\n",
    "            return x * y* z\n",
    "        return inner_2\n",
    "    return inner_1\n",
    "print(curry_product(2)(2)(3))))"
   ]
  },
  {
   "cell_type": "code",
   "execution_count": null,
   "id": "9561b8d8",
   "metadata": {},
   "outputs": [],
   "source": [
    "#Define a function that uses a context manager to write a list of integers to a file. The function should handle any errors that occur during file operations. Test with different lists.\n",
    "\n",
    "\n",
    "def write_to_file(lst, filename):\n",
    "    try:\n",
    "        with open(filename, 'w') as f:\n",
    "            from num in lst:\n",
    "                f.write(f\"{num}\\n\")\n",
    "    except IOError as e:\n",
    "        print(f\"An error occurred:{e}\")\n",
    "\n",
    "write_to_file([1, 2, 3, 4], 'output.txt')\n"
   ]
  },
  {
   "cell_type": "code",
   "execution_count": 1,
   "id": "5c4c08ea",
   "metadata": {},
   "outputs": [
    {
     "name": "stdout",
     "output_type": "stream",
     "text": [
      "([1, 3], ['a', 'b', 'c'], [2.5, 4.0])\n"
     ]
    }
   ],
   "source": [
    "#Define a function that takes a list of mixed data types (integers, strings, and floats) and returns three lists: one containing all the integers, one containing all the strings, and one containing all the floats. Test with different inputs.\n",
    "\n",
    "def separate_types(lst):\n",
    "    ints, strs, floats = [], [], []\n",
    "    for item in lst:\n",
    "        if isinstance(item, int):\n",
    "            ints.append(item)\n",
    "        elif isinstance(item, str):\n",
    "            strs.append(item)\n",
    "        elif isinstance(item, float):\n",
    "            floats.append(item)\n",
    "    return ints, strs, floats\n",
    "print(separate_types([1, 'a', 2.5, 3, 'b', 4.0, 'c']))\n",
    "\n",
    "    "
   ]
  },
  {
   "cell_type": "code",
   "execution_count": 2,
   "id": "f8df7e0a",
   "metadata": {},
   "outputs": [
    {
     "name": "stdout",
     "output_type": "stream",
     "text": [
      "1\n",
      "2\n"
     ]
    }
   ],
   "source": [
    "#Define a function that maintains state between calls using a mutable default argument. The function should keep track of how many times it has been called. Test by calling the function multiple times.\n",
    "\n",
    "\n",
    "def call_counter(counter={'count':0}):\n",
    "    counter['count'] += 1\n",
    "    return counter['count']\n",
    "print(call_counter())\n",
    "print(call_counter())"
   ]
  },
  {
   "cell_type": "code",
   "execution_count": 14,
   "id": "c2bcca4d",
   "metadata": {},
   "outputs": [
    {
     "name": "stdout",
     "output_type": "stream",
     "text": [
      "Please enter celcius:45\n"
     ]
    },
    {
     "data": {
      "text/plain": [
       "113.0"
      ]
     },
     "execution_count": 14,
     "metadata": {},
     "output_type": "execute_result"
    }
   ],
   "source": [
    "def celsius_to_fahrenheit(C):\n",
    "        return (9/5 * C) + 32\n",
    "C= int(input(\"Please enter celcius:\"))\n",
    "celsius_to_fahrenheit(C)"
   ]
  },
  {
   "cell_type": "code",
   "execution_count": 18,
   "id": "9dbc54c9",
   "metadata": {},
   "outputs": [
    {
     "name": "stdout",
     "output_type": "stream",
     "text": [
      "Enter the length:20\n",
      "Enter the breadth30\n",
      "20.0 is in meters and 30.0 is also in meters then total area of the rectangle is 600.0\n"
     ]
    }
   ],
   "source": [
    "def area_of_rectangle(length, breadth):\n",
    "    \"\"\"\n",
    "    Function to calculate the area of a rectangle.\n",
    "    \n",
    "    Parameters:\n",
    "    length (float): The length of the rectangle.\n",
    "    breadth (float): The breadth of the rectangle.\n",
    "    \n",
    "    Returns:\n",
    "    float: The area of the rectangle.\n",
    "    \"\"\"\n",
    "    return length * breadth\n",
    "length = float(input(\"Enter the length:\"))\n",
    "breadth = float(input(\"Enter the breadth\"))\n",
    "area_of_the_rectangle = area_of_rectangle(length, breadth)\n",
    "print(f\"{length} is in meters and {breadth} is also in meters then total area of the rectangle is {area_of_the_rectangle}\")"
   ]
  },
  {
   "cell_type": "code",
   "execution_count": 28,
   "id": "a59a1e6a",
   "metadata": {},
   "outputs": [
    {
     "name": "stdout",
     "output_type": "stream",
     "text": [
      "enter the speed:3\n",
      "enter the time:5\n",
      "with speed 3.0 m/s and time of 5.0 seconds, the distance travelled is 15.0 meters\n"
     ]
    }
   ],
   "source": [
    "def calculate_distance(speed, time):\n",
    "    return speed * time\n",
    "speed = float(input(\"enter the speed:\"))\n",
    "time = float(input(\"enter the time:\"))\n",
    "dist_travelled = calculate_distance(speed, time)\n",
    "print(f\"with speed {speed} m/s and time of {time} seconds, the distance travelled is {dist_travelled} meters\")"
   ]
  },
  {
   "cell_type": "code",
   "execution_count": 36,
   "id": "cf633238",
   "metadata": {},
   "outputs": [
    {
     "name": "stdout",
     "output_type": "stream",
     "text": [
      "Please enter the number of people:3\n",
      "total capacity of the lift:10\n",
      "total number of people 3 and capacity is 10 people, the total 1\n"
     ]
    }
   ],
   "source": [
    "import math\n",
    "\n",
    "def calculate_lift_rounds(n, capacity):\n",
    "    \"\"\"\n",
    "    Function to calculate the number of rounds the lift needs to cover.\n",
    "    \n",
    "    Parameters:\n",
    "    n (int): Total number of people.\n",
    "    capacity (int): Maximum number of people the lift can carry in one round.\n",
    "    \n",
    "    Returns:\n",
    "    int: The number of rounds required to transport all people to the top floor.\n",
    "    \"\"\"\n",
    "    return math.ceil(n/capacity)\n",
    "n = int(input(\"Please enter the number of people:\"))\n",
    "capacity = int(input(\"total capacity of the lift:\"))\n",
    "round_life = round(calculate_lift_rounds(n, capacity))\n",
    "print(f\"total number of people {n} and capacity is {capacity} people, the total {round_life}\")\n"
   ]
  },
  {
   "cell_type": "code",
   "execution_count": 37,
   "id": "ea6e7044",
   "metadata": {},
   "outputs": [
    {
     "name": "stdout",
     "output_type": "stream",
     "text": [
      "Enter the slope:2\n",
      "Enter the x:3\n",
      "Enter the intercept2.4\n",
      " the 2.0 and the intercept is2.4 and the value of 3.0, the value of y is8.4\n"
     ]
    }
   ],
   "source": [
    "def calculate_y(slope, intercept, x):\n",
    "    \"\"\"\n",
    "    Function to calculate the value of y using the slope-intercept form of a line.\n",
    "    \n",
    "    Parameters:\n",
    "    slope (float): The slope of the line.\n",
    "    intercept (float): The y-intercept of the line.\n",
    "    x (float): The value of x for which y needs to be calculated.\n",
    "    \n",
    "    Returns:\n",
    "    float: The calculated value of y.\n",
    "    \"\"\"\n",
    "    return (slope * x) + intercept\n",
    "slope = float(input(\"Enter the slope:\"))\n",
    "x = float(input(\"Enter the x:\"))\n",
    "intercept = float(input(\"Enter the intercept\"))\n",
    "value_of_y = calculate_y(slope, intercept, x)\n",
    "print(f\" the {slope} and the intercept is{intercept} and the value of {x}, the value of y is {value_of_y}\")"
   ]
  },
  {
   "cell_type": "code",
   "execution_count": 42,
   "id": "2300d118",
   "metadata": {},
   "outputs": [
    {
     "data": {
      "text/plain": [
       "17"
      ]
     },
     "execution_count": 42,
     "metadata": {},
     "output_type": "execute_result"
    }
   ],
   "source": [
    "numbers =[2, 3, 4, 8]\n",
    "def sum_list(numbers):\n",
    "    return sum(numbers)\n",
    "sum_list(numbers)"
   ]
  },
  {
   "cell_type": "code",
   "execution_count": null,
   "id": "4b6e1cec",
   "metadata": {},
   "outputs": [],
   "source": [
    "def sum_list(numbers):"
   ]
  }
 ],
 "metadata": {
  "kernelspec": {
   "display_name": "Python 3 (ipykernel)",
   "language": "python",
   "name": "python3"
  },
  "language_info": {
   "codemirror_mode": {
    "name": "ipython",
    "version": 3
   },
   "file_extension": ".py",
   "mimetype": "text/x-python",
   "name": "python",
   "nbconvert_exporter": "python",
   "pygments_lexer": "ipython3",
   "version": "3.11.4"
  }
 },
 "nbformat": 4,
 "nbformat_minor": 5
}
