{
 "cells": [
  {
   "cell_type": "markdown",
   "metadata": {},
   "source": [
    "# Lesson 1.2: Python Basics\n",
    "## Topics Covered:\n",
    "- Syntax and Semantics\n",
    "- Variables and Data Types\n",
    "- Basic Operators (Arithmetic, Comparison, Logical)\n"
   ]
  },
  {
   "cell_type": "markdown",
   "metadata": {},
   "source": [
    "## 1. Syntax and Semantics\n",
    "\n",
    "**Question 1:** Write a Python program to print \"Hello, World!\"."
   ]
  },
  {
   "cell_type": "code",
   "execution_count": 1,
   "metadata": {},
   "outputs": [
    {
     "name": "stdout",
     "output_type": "stream",
     "text": [
      "Hello, world!\n"
     ]
    }
   ],
   "source": [
    "print(\"Hello, world!\")"
   ]
  },
  {
   "cell_type": "markdown",
   "metadata": {},
   "source": [
    "**Question 2:** Write a Python program that takes a user input and prints it."
   ]
  },
  {
   "cell_type": "code",
   "execution_count": 2,
   "metadata": {},
   "outputs": [
    {
     "name": "stdout",
     "output_type": "stream",
     "text": [
      "What is your name!\n",
      "NoneDawood\n"
     ]
    },
    {
     "data": {
      "text/plain": [
       "'Dawood'"
      ]
     },
     "execution_count": 2,
     "metadata": {},
     "output_type": "execute_result"
    }
   ],
   "source": [
    "input(print(\"What is your name!\"))"
   ]
  },
  {
   "cell_type": "markdown",
   "metadata": {},
   "source": [
    "**Question 3:** Write a Python program to check if a number is positive, negative, or zero."
   ]
  },
  {
   "cell_type": "code",
   "execution_count": 3,
   "metadata": {},
   "outputs": [
    {
     "name": "stdout",
     "output_type": "stream",
     "text": [
      "enter a number:3\n",
      "number is positive\n"
     ]
    }
   ],
   "source": [
    "digit = int(input(\"enter a number:\"))\n",
    "def check_digit():\n",
    "    if digit > 0:\n",
    "        print(\"number is positive\")\n",
    "    elif digit < 0:\n",
    "        print(\"Number is negative\")\n",
    "    elif digit == 0:\n",
    "        print(\"Number is zero\")\n",
    "    else:\n",
    "        print(\"invalid number\")\n",
    "check_digit()"
   ]
  },
  {
   "cell_type": "markdown",
   "metadata": {},
   "source": [
    "**Question 4:** Write a Python program to find the largest of three numbers."
   ]
  },
  {
   "cell_type": "code",
   "execution_count": 4,
   "metadata": {},
   "outputs": [
    {
     "name": "stdout",
     "output_type": "stream",
     "text": [
      "8 is the largest number\n"
     ]
    }
   ],
   "source": [
    "list = [3, 8, 2]\n",
    "\n",
    "def best_number(list):\n",
    "    largest_number = list[0]\n",
    "    for n in list[1:]:\n",
    "        if n > largest_number:\n",
    "            largest_number = n\n",
    "    return f\"{largest_number} is the largest number\"\n",
    "result=best_number(list)\n",
    "print(result)\n",
    "    "
   ]
  },
  {
   "cell_type": "markdown",
   "metadata": {},
   "source": [
    "**Question 5:** Write a Python program to calculate the factorial of a number."
   ]
  },
  {
   "cell_type": "code",
   "execution_count": 5,
   "metadata": {},
   "outputs": [
    {
     "name": "stdout",
     "output_type": "stream",
     "text": [
      "enter a digit:24\n",
      "620448401733239439360000\n"
     ]
    }
   ],
   "source": [
    "import math\n",
    "digit = int(input(\"enter a digit:\"))\n",
    "\n",
    "def fact_digit(digit):\n",
    "        if digit >= 0:\n",
    "            return math.factorial(digit)\n",
    "result = fact_digit(digit)\n",
    "print(result)"
   ]
  },
  {
   "cell_type": "markdown",
   "metadata": {},
   "source": [
    "## 2. Variables and Data Types\n",
    "\n",
    "**Question 6:** Create variables of different data types: integer, float, string, and boolean. Print their values and types."
   ]
  },
  {
   "cell_type": "code",
   "execution_count": 6,
   "metadata": {},
   "outputs": [
    {
     "name": "stdout",
     "output_type": "stream",
     "text": [
      "<class 'int'>\n",
      "<class 'float'>\n",
      "<class 'str'>\n",
      "<class 'bool'>\n"
     ]
    }
   ],
   "source": [
    "integer_1 = 2\n",
    "print(type(integer_1))\n",
    "integer_2 = 2.13\n",
    "print(type(integer_2))\n",
    "integer_3= \"Dawood\"\n",
    "print(type(integer_3))\n",
    "integer_4 = True\n",
    "print(type(integer_4))"
   ]
  },
  {
   "cell_type": "markdown",
   "metadata": {},
   "source": [
    "**Question 7:** Write a Python program to swap the values of two variables."
   ]
  },
  {
   "cell_type": "code",
   "execution_count": 7,
   "metadata": {},
   "outputs": [
    {
     "name": "stdout",
     "output_type": "stream",
     "text": [
      "25 is var_1 and 24 is var_2\n"
     ]
    }
   ],
   "source": [
    "def swap_val(var_1, var_2):\n",
    "    if var_1 != var_2:\n",
    "        return var_2, var_1\n",
    "var_1 = 24\n",
    "var_2 = 25\n",
    "var_1, var_2 = swap_val(var_1, var_2)\n",
    "print(f\"{var_1} is var_1 and {var_2} is var_2\")"
   ]
  },
  {
   "cell_type": "markdown",
   "metadata": {},
   "source": [
    "**Question 8:** Write a Python program to convert Celsius to Fahrenheit."
   ]
  },
  {
   "cell_type": "code",
   "execution_count": 8,
   "metadata": {},
   "outputs": [
    {
     "name": "stdout",
     "output_type": "stream",
     "text": [
      "86.0\n"
     ]
    }
   ],
   "source": [
    "\n",
    "def fahren_cover(n):\n",
    "    if n > 0:\n",
    "        celcius_1 = n * 9/5 + 32\n",
    "        return celcius_1\n",
    "        \n",
    "result = fahren_cover(30)\n",
    "print(result)\n",
    "        "
   ]
  },
  {
   "cell_type": "markdown",
   "metadata": {},
   "source": [
    "**Question 9:** Write a Python program to concatenate two strings."
   ]
  },
  {
   "cell_type": "code",
   "execution_count": 9,
   "metadata": {},
   "outputs": [
    {
     "data": {
      "text/plain": [
       "'what is your name My name is Dawod'"
      ]
     },
     "execution_count": 9,
     "metadata": {},
     "output_type": "execute_result"
    }
   ],
   "source": [
    "def conct_str():\n",
    "    str_1 = \"what is your name\"\n",
    "    str_2 = \"My name is Dawod\"\n",
    "    return str_1 + \" \" + str_2\n",
    "conct_str()"
   ]
  },
  {
   "cell_type": "markdown",
   "metadata": {},
   "source": [
    "**Question 10:** Write a Python program to check if a variable is of a specific data type."
   ]
  },
  {
   "cell_type": "code",
   "execution_count": 10,
   "metadata": {},
   "outputs": [
    {
     "name": "stdout",
     "output_type": "stream",
     "text": [
      "please enter anythin3\n",
      "the value is correct\n"
     ]
    }
   ],
   "source": [
    "def check_var():\n",
    "    var_a = input(\"please enter anythin\")\n",
    "    try:\n",
    "        var_a = int(var_a)\n",
    "        print(\"the value is correct\")\n",
    "    except ValueError:\n",
    "        print(\"incorrect value\")\n",
    "check_var()"
   ]
  },
  {
   "cell_type": "markdown",
   "metadata": {},
   "source": [
    "## 3. Basic Operators (Arithmetic, Comparison, Logical)\n",
    "\n",
    "**Question 11:** Write a Python program to perform arithmetic operations: addition, subtraction, multiplication, and division."
   ]
  },
  {
   "cell_type": "code",
   "execution_count": 11,
   "metadata": {},
   "outputs": [
    {
     "name": "stdout",
     "output_type": "stream",
     "text": [
      "0.7142857142857143\n",
      "-4\n",
      "24\n"
     ]
    }
   ],
   "source": [
    "a = 10\n",
    "b = 14\n",
    "subtraction_1 = int(a - b)\n",
    "addition_1 = a + b\n",
    "multiplication_1 = a * b\n",
    "division_1 = a / b\n",
    "\n",
    "print(division_1)\n",
    "print(subtraction_1)\n",
    "print(addition_1)"
   ]
  },
  {
   "cell_type": "markdown",
   "metadata": {},
   "source": [
    "**Question 12:** Write a Python program to demonstrate comparison operators: equal to, not equal to, greater than, less than."
   ]
  },
  {
   "cell_type": "code",
   "execution_count": 12,
   "metadata": {},
   "outputs": [
    {
     "name": "stdout",
     "output_type": "stream",
     "text": [
      "enter a digit3\n",
      "enster a digit3\n",
      "both variables are equal\n"
     ]
    }
   ],
   "source": [
    "var_1 = int(input(\"enter a digit\"))\n",
    "var_2 = int(input(\"enster a digit\"))\n",
    "\n",
    "def comp_fuc():\n",
    "    if var_1 == var_2:\n",
    "        print(\"both variables are equal\")    \n",
    "    elif var_1 > var_2:\n",
    "        print(\"var_1 is greater than var_2\")\n",
    "    elif var_1 < var_2:\n",
    "        print(\"var_1 is less than var_2\")\n",
    "comp_fuc()"
   ]
  },
  {
   "cell_type": "markdown",
   "metadata": {},
   "source": [
    "**Question 13:** Write a Python program to demonstrate logical operators: and, or, not."
   ]
  },
  {
   "cell_type": "code",
   "execution_count": 13,
   "metadata": {},
   "outputs": [
    {
     "name": "stdout",
     "output_type": "stream",
     "text": [
      "True\n"
     ]
    }
   ],
   "source": [
    "a = True\n",
    "b = False\n",
    "print(a and not b)"
   ]
  },
  {
   "cell_type": "markdown",
   "metadata": {},
   "source": [
    "**Question 14:** Write a Python program to calculate the square of a number."
   ]
  },
  {
   "cell_type": "code",
   "execution_count": 14,
   "metadata": {},
   "outputs": [
    {
     "data": {
      "text/plain": [
       "16"
      ]
     },
     "execution_count": 14,
     "metadata": {},
     "output_type": "execute_result"
    }
   ],
   "source": [
    "def square_n(n):\n",
    "    if n >= 1:\n",
    "        return n*n\n",
    "square_n(4)"
   ]
  },
  {
   "cell_type": "markdown",
   "metadata": {},
   "source": [
    "**Question 15:** Write a Python program to check if a number is even or odd."
   ]
  },
  {
   "cell_type": "code",
   "execution_count": 15,
   "metadata": {},
   "outputs": [
    {
     "name": "stdout",
     "output_type": "stream",
     "text": [
      "digit is odd\n",
      "None\n"
     ]
    }
   ],
   "source": [
    "def even_n(n):\n",
    "    if n%2 == 0:\n",
    "        print(\"digit is even\")\n",
    "    elif n%2 != 0:\n",
    "        print(\"digit is odd\")\n",
    "    else:\n",
    "        print(\"invalid number\")\n",
    "result = even_n(3)\n",
    "print(result)"
   ]
  },
  {
   "cell_type": "markdown",
   "metadata": {},
   "source": [
    "**Question 16:** Write a Python program to find the sum of the first n natural numbers."
   ]
  },
  {
   "cell_type": "code",
   "execution_count": 16,
   "metadata": {},
   "outputs": [
    {
     "name": "stdout",
     "output_type": "stream",
     "text": [
      "45\n"
     ]
    }
   ],
   "source": [
    "def sum_nat(n):\n",
    "    if n >= 0:\n",
    "            return sum(range(n))\n",
    "result = sum_nat(10)\n",
    "print(result)"
   ]
  },
  {
   "cell_type": "markdown",
   "metadata": {},
   "source": [
    "**Question 17:** Write a Python program to check if a year is a leap year."
   ]
  },
  {
   "cell_type": "code",
   "execution_count": 17,
   "metadata": {},
   "outputs": [
    {
     "name": "stdout",
     "output_type": "stream",
     "text": [
      "Enter a year:2003\n"
     ]
    },
    {
     "ename": "TypeError",
     "evalue": "leap_year() missing 1 required positional argument: 'n'",
     "output_type": "error",
     "traceback": [
      "\u001b[1;31m---------------------------------------------------------------------------\u001b[0m",
      "\u001b[1;31mTypeError\u001b[0m                                 Traceback (most recent call last)",
      "Cell \u001b[1;32mIn[17], line 11\u001b[0m\n\u001b[0;32m      9\u001b[0m             \u001b[38;5;28mprint\u001b[39m(\u001b[38;5;124m\"\u001b[39m\u001b[38;5;124mthis is not a leap year\u001b[39m\u001b[38;5;124m\"\u001b[39m)\n\u001b[0;32m     10\u001b[0m year \u001b[38;5;241m=\u001b[39m \u001b[38;5;28mint\u001b[39m(\u001b[38;5;28minput\u001b[39m(\u001b[38;5;124m\"\u001b[39m\u001b[38;5;124mEnter a year:\u001b[39m\u001b[38;5;124m\"\u001b[39m))\n\u001b[1;32m---> 11\u001b[0m leap_year()\n",
      "\u001b[1;31mTypeError\u001b[0m: leap_year() missing 1 required positional argument: 'n'"
     ]
    }
   ],
   "source": [
    "def leap_year(n):\n",
    "    if n%2==0:\n",
    "        print(\"This is leap year\")\n",
    "        if n%100 ==0:\n",
    "            print(\"This is also a leap year\")\n",
    "            if n%400 == 0:\n",
    "                print(\"This is too a leap year\")\n",
    "        else:\n",
    "            print(\"this is not a leap year\")\n",
    "year = int(input(\"Enter a year:\"))\n",
    "leap_year()"
   ]
  },
  {
   "cell_type": "markdown",
   "metadata": {},
   "source": [
    "**Question 18:** Write a Python program to reverse a string."
   ]
  },
  {
   "cell_type": "code",
   "execution_count": 19,
   "metadata": {},
   "outputs": [
    {
     "name": "stdout",
     "output_type": "stream",
     "text": [
      "uoy era woH\n"
     ]
    }
   ],
   "source": [
    "str_1 = \"How are you\"\n",
    "def revr_st():\n",
    "    rev_st = str_1[::-1]\n",
    "    print(rev_st)\n",
    "    \n",
    "revr_st()"
   ]
  },
  {
   "cell_type": "markdown",
   "metadata": {},
   "source": [
    "**Question 19:** Write a Python program to check if a string is a palindrome."
   ]
  },
  {
   "cell_type": "code",
   "execution_count": 22,
   "metadata": {},
   "outputs": [
    {
     "name": "stdout",
     "output_type": "stream",
     "text": [
      "Enter a string: hello how are you\n",
      "\"hello how are you\" is not a palindrome.\n"
     ]
    }
   ],
   "source": [
    "def is_palindrome(s):\n",
    "    # Remove spaces and convert to lowercase for uniform comparison\n",
    "    s = s.replace(\" \", \"\").lower()\n",
    "    \n",
    "    # Check if the string is the same as its reverse\n",
    "    if s == s[::-1]:\n",
    "        return True\n",
    "    else:\n",
    "        return False\n",
    "\n",
    "# Input string from the user\n",
    "input_str = input(\"Enter a string: \")\n",
    "\n",
    "# Check if the string is a palindrome\n",
    "if is_palindrome(input_str):\n",
    "    print(f'\"{input_str}\" is a palindrome.')\n",
    "else:\n",
    "    print(f'\"{input_str}\" is not a palindrome.')\n"
   ]
  },
  {
   "cell_type": "markdown",
   "metadata": {},
   "source": [
    "**Question 20:** Write a Python program to sort a list of numbers in ascending order."
   ]
  },
  {
   "cell_type": "code",
   "execution_count": 21,
   "metadata": {},
   "outputs": [
    {
     "name": "stdout",
     "output_type": "stream",
     "text": [
      "[2, 4, 5, 7, 19, 33]\n"
     ]
    }
   ],
   "source": [
    "list = [4, 5, 19, 2, 33, 7]\n",
    "def sort_func(lst):\n",
    "    final_list = sorted(lst)\n",
    "    print(final_list)\n",
    "sort_func(list)\n",
    "        "
   ]
  },
  {
   "cell_type": "code",
   "execution_count": null,
   "metadata": {},
   "outputs": [],
   "source": []
  }
 ],
 "metadata": {
  "kernelspec": {
   "display_name": "Python 3 (ipykernel)",
   "language": "python",
   "name": "python3"
  },
  "language_info": {
   "codemirror_mode": {
    "name": "ipython",
    "version": 3
   },
   "file_extension": ".py",
   "mimetype": "text/x-python",
   "name": "python",
   "nbconvert_exporter": "python",
   "pygments_lexer": "ipython3",
   "version": "3.11.4"
  }
 },
 "nbformat": 4,
 "nbformat_minor": 4
}
